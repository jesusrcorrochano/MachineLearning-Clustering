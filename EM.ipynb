{
 "cells": [
  {
   "cell_type": "code",
   "execution_count": 3,
   "metadata": {},
   "outputs": [],
   "source": [
    "%matplotlib inline\n",
    "import matplotlib.pyplot as plt\n",
    "import seaborn as sns; sns.set()\n",
    "import numpy as np\n",
    "import pandas as pd"
   ]
  },
  {
   "cell_type": "code",
   "execution_count": 39,
   "metadata": {},
   "outputs": [],
   "source": [
    "from kneed import KneeLocator"
   ]
  },
  {
   "cell_type": "code",
   "execution_count": 4,
   "metadata": {},
   "outputs": [],
   "source": [
    "dataset = pd.read_csv('dataset_100_instances.csv')"
   ]
  },
  {
   "cell_type": "code",
   "execution_count": 5,
   "metadata": {},
   "outputs": [],
   "source": [
    "X = dataset.values"
   ]
  },
  {
   "cell_type": "code",
   "execution_count": 45,
   "metadata": {},
   "outputs": [
    {
     "data": {
      "image/png": "[encoded data removed]",
      "text/plain": [
       "<Figure size 432x288 with 1 Axes>"
      ]
     },
     "metadata": {},
     "output_type": "display_data"
    }
   ],
   "source": [
    "i = 1\n",
    "L1=[]\n",
    "L2=[]\n",
    "while i < 20:\n",
    "    gmm = GaussianMixture(n_init=10, init_params='random', n_components=i).fit(X)\n",
    "    L1.append(i)\n",
    "    L2.append(gmm.lower_bound_)\n",
    "    i+=1\n",
    "\n",
    "plt.plot(L1, L2, marker='o', markerfacecolor='pink', markersize=10, color='lavenderblush', linewidth=3)\n",
    "plt.xticks(range(1, 20))\n",
    "plt.xlabel(\"Number of Clusters\")\n",
    "plt.ylabel(\"log\")\n",
    "plt.show()"
   ]
  },
  {
   "cell_type": "code",
   "execution_count": 46,
   "metadata": {},
   "outputs": [
    {
     "data": {
      "text/plain": [
       "6"
      ]
     },
     "execution_count": 46,
     "metadata": {},
     "output_type": "execute_result"
    }
   ],
   "source": [
    "kl = KneeLocator(\n",
    "    L1, L2, curve=\"concave\", direction=\"increasing\"\n",
    ")\n",
    "\n",
    "kl.elbow"
   ]
  },
  {
   "cell_type": "code",
   "execution_count": 47,
   "metadata": {},
   "outputs": [],
   "source": [
    "gmm = GaussianMixture(n_init=10, init_params='random', n_components=6).fit(X)"
   ]
  },
  {
   "cell_type": "code",
   "execution_count": 48,
   "metadata": {},
   "outputs": [
    {
     "data": {
      "text/plain": [
       "162.1625514216297"
      ]
     },
     "execution_count": 48,
     "metadata": {},
     "output_type": "execute_result"
    }
   ],
   "source": [
    "gmm.lower_bound_"
   ]
  },
  {
   "cell_type": "code",
   "execution_count": 49,
   "metadata": {
    "scrolled": true
   },
   "outputs": [
    {
     "name": "stdout",
     "output_type": "stream",
     "text": [
      "[[0.    0.    0.    1.    0.    0.   ]\n",
      " [0.    0.    0.    1.    0.    0.   ]\n",
      " [0.    0.    0.    0.    0.    1.   ]\n",
      " [0.    0.    0.    0.    0.    1.   ]\n",
      " [0.    0.    1.    0.    0.    0.   ]\n",
      " [0.    0.    1.    0.    0.    0.   ]\n",
      " [0.    0.    1.    0.    0.    0.   ]\n",
      " [0.    0.    1.    0.    0.    0.   ]\n",
      " [0.    0.    0.    0.    1.    0.   ]\n",
      " [0.    0.    0.    0.    1.    0.   ]\n",
      " [0.    0.    1.    0.    0.    0.   ]\n",
      " [0.    0.    1.    0.    0.    0.   ]\n",
      " [1.    0.    0.    0.    0.    0.   ]\n",
      " [0.    0.    0.    1.    0.    0.   ]\n",
      " [0.    0.    0.    1.    0.    0.   ]\n",
      " [0.    0.    0.    1.    0.    0.   ]\n",
      " [0.004 0.    0.    0.996 0.    0.   ]\n",
      " [1.    0.    0.    0.    0.    0.   ]\n",
      " [1.    0.    0.    0.    0.    0.   ]\n",
      " [1.    0.    0.    0.    0.    0.   ]\n",
      " [0.    0.    1.    0.    0.    0.   ]\n",
      " [0.    0.    1.    0.    0.    0.   ]\n",
      " [0.    0.    1.    0.    0.    0.   ]\n",
      " [0.    0.    1.    0.    0.    0.   ]\n",
      " [0.    0.    0.    0.    1.    0.   ]\n",
      " [0.    0.    0.    0.    1.    0.   ]\n",
      " [0.    0.    0.    0.    1.    0.   ]\n",
      " [0.    0.    0.    0.    1.    0.   ]\n",
      " [0.    0.    0.    0.    1.    0.   ]\n",
      " [0.    0.    0.    0.    1.    0.   ]\n",
      " [0.    0.    0.    0.    1.    0.   ]\n",
      " [0.    0.    0.    0.    1.    0.   ]\n",
      " [0.    0.    0.    0.    1.    0.   ]\n",
      " [0.    0.    0.    0.    1.    0.   ]\n",
      " [0.    0.    0.959 0.    0.041 0.   ]\n",
      " [0.    0.    0.923 0.    0.077 0.   ]\n",
      " [0.    0.    0.    1.    0.    0.   ]\n",
      " [0.    0.    0.    1.    0.    0.   ]\n",
      " [0.    0.    0.    1.    0.    0.   ]\n",
      " [0.    0.    0.    1.    0.    0.   ]\n",
      " [0.    0.993 0.    0.007 0.    0.   ]\n",
      " [0.    0.993 0.    0.007 0.    0.   ]\n",
      " [0.    0.998 0.    0.002 0.    0.   ]\n",
      " [0.    0.995 0.    0.005 0.    0.   ]\n",
      " [0.    0.    0.993 0.    0.007 0.   ]\n",
      " [0.    0.    0.998 0.    0.002 0.   ]\n",
      " [0.    0.    1.    0.    0.    0.   ]\n",
      " [0.    0.    1.    0.    0.    0.   ]\n",
      " [0.    0.    1.    0.    0.    0.   ]\n",
      " [0.    0.    1.    0.    0.    0.   ]\n",
      " [0.    0.    0.993 0.    0.007 0.   ]\n",
      " [0.    0.    0.    0.    1.    0.   ]\n",
      " [0.    0.988 0.    0.012 0.    0.   ]\n",
      " [0.    0.991 0.    0.009 0.    0.   ]\n",
      " [0.    0.992 0.    0.008 0.    0.   ]\n",
      " [0.002 0.    0.    0.997 0.    0.   ]\n",
      " [0.    0.    0.    0.    0.    1.   ]\n",
      " [0.    0.    0.    0.    0.    1.   ]\n",
      " [0.    1.    0.    0.    0.    0.   ]\n",
      " [0.    1.    0.    0.    0.    0.   ]\n",
      " [0.999 0.    0.    0.001 0.    0.   ]\n",
      " [1.    0.    0.    0.    0.    0.   ]\n",
      " [0.995 0.    0.    0.005 0.    0.   ]\n",
      " [0.    0.006 0.    0.994 0.    0.   ]\n",
      " [1.    0.    0.    0.    0.    0.   ]\n",
      " [0.    0.    0.    1.    0.    0.   ]\n",
      " [1.    0.    0.    0.    0.    0.   ]\n",
      " [1.    0.    0.    0.    0.    0.   ]\n",
      " [0.    0.    0.    0.    0.    1.   ]\n",
      " [0.    0.    0.    0.    0.    1.   ]\n",
      " [0.    0.    0.    1.    0.    0.   ]\n",
      " [0.    0.    0.    1.    0.    0.   ]\n",
      " [0.    1.    0.    0.    0.    0.   ]\n",
      " [0.    1.    0.    0.    0.    0.   ]\n",
      " [0.    0.999 0.001 0.    0.    0.   ]\n",
      " [0.    1.    0.    0.    0.    0.   ]\n",
      " [0.    0.    1.    0.    0.    0.   ]\n",
      " [0.    0.    1.    0.    0.    0.   ]\n",
      " [0.    0.    1.    0.    0.    0.   ]\n",
      " [0.    0.    1.    0.    0.    0.   ]\n",
      " [0.    0.    1.    0.    0.    0.   ]\n",
      " [0.    0.    1.    0.    0.    0.   ]\n",
      " [0.    0.    1.    0.    0.    0.   ]\n",
      " [0.    0.    1.    0.    0.    0.   ]\n",
      " [0.    0.    1.    0.    0.    0.   ]\n",
      " [0.    0.    0.    0.    1.    0.   ]\n",
      " [0.    0.    0.    0.    1.    0.   ]\n",
      " [0.    0.    0.    0.    1.    0.   ]\n",
      " [0.    0.    0.999 0.    0.001 0.   ]\n",
      " [0.    0.    0.    0.    1.    0.   ]\n",
      " [0.    0.    0.    0.    1.    0.   ]\n",
      " [0.    0.    0.    0.    1.    0.   ]\n",
      " [0.    0.996 0.    0.004 0.    0.   ]\n",
      " [0.    0.999 0.    0.001 0.    0.   ]\n",
      " [0.    0.985 0.    0.015 0.    0.   ]\n",
      " [0.    0.969 0.    0.031 0.    0.   ]\n",
      " [0.    0.995 0.    0.005 0.    0.   ]\n",
      " [0.    0.999 0.    0.001 0.    0.   ]\n",
      " [0.    0.    0.    1.    0.    0.   ]\n",
      " [0.    0.    0.    1.    0.    0.   ]]\n"
     ]
    }
   ],
   "source": [
    "probs = gmm.predict_proba(X)\n",
    "print(probs.round(3))"
   ]
  },
  {
   "cell_type": "code",
   "execution_count": 62,
   "metadata": {},
   "outputs": [
    {
     "name": "stdout",
     "output_type": "stream",
     "text": [
      "[3 3 5 5 2 2 2 2 4 4 2 2 0 3 3 3 3 0 0 0 2 2 2 2 4 4 4 4 4 4 4 4 4 4 2 2 3\n",
      " 3 3 3 1 1 1 1 2 2 2 2 2 2 2 4 1 1 1 3 5 5 1 1 0 0 0 3 0 3 0 0 5 5 3 3 1 1\n",
      " 1 1 2 2 2 2 2 2 2 2 2 4 4 4 2 4 4 4 1 1 1 1 1 1 3 3]\n"
     ]
    }
   ],
   "source": [
    "pred = gmm.predict(X)\n",
    "print(probs.round(3))"
   ]
  },
  {
   "cell_type": "code",
   "execution_count": 61,
   "metadata": {},
   "outputs": [],
   "source": [
    "df = dataset"
   ]
  },
  {
   "cell_type": "code",
   "execution_count": 63,
   "metadata": {},
   "outputs": [],
   "source": [
    "df['cluster'] = pred"
   ]
  },
  {
   "cell_type": "code",
   "execution_count": 64,
   "metadata": {},
   "outputs": [
    {
     "data": {
      "text/plain": [
       "<matplotlib.axes._subplots.AxesSubplot at 0x1d89f676a88>"
      ]
     },
     "execution_count": 64,
     "metadata": {},
     "output_type": "execute_result"
    },
    {
     "data": {
      "image/png": "[encoded data removed]",
      "text/plain": [
       "<Figure size 432x288 with 1 Axes>"
      ]
     },
     "metadata": {},
     "output_type": "display_data"
    }
   ],
   "source": [
    "pd.plotting.andrews_curves(df, 'cluster')"
   ]
  },
  {
   "cell_type": "code",
   "execution_count": 51,
   "metadata": {},
   "outputs": [
    {
     "data": {
      "text/plain": [
       "12"
      ]
     },
     "execution_count": 51,
     "metadata": {},
     "output_type": "execute_result"
    }
   ],
   "source": [
    "gmm.n_iter_"
   ]
  },
  {
   "cell_type": "code",
   "execution_count": 52,
   "metadata": {
    "scrolled": true
   },
   "outputs": [
    {
     "data": {
      "text/plain": [
       "array([[0.12343171, 0.59768735, 0.76736753, 1.        , 0.666667  ,\n",
       "        0.69538848, 0.38980665, 0.38551295, 1.        , 0.        ,\n",
       "        0.        , 1.        , 0.        , 1.        , 0.        ,\n",
       "        0.        , 1.        , 0.        , 1.        , 0.        ,\n",
       "        1.        , 0.        , 0.        , 0.        , 1.        ,\n",
       "        0.        , 0.        , 0.        , 0.        , 1.        ,\n",
       "        0.        ],\n",
       "       [0.18286036, 0.49079399, 0.65138813, 1.        , 0.666667  ,\n",
       "        0.55971505, 0.38179265, 0.32309857, 1.        , 0.        ,\n",
       "        0.        , 1.        , 0.        , 1.        , 0.        ,\n",
       "        0.        , 1.        , 0.        , 1.        , 0.        ,\n",
       "        1.        , 0.        , 0.        , 0.        , 1.        ,\n",
       "        0.        , 0.        , 0.        , 0.        , 1.        ,\n",
       "        0.        ],\n",
       "       [0.25484579, 0.33734094, 0.52463357, 1.        , 0.666667  ,\n",
       "        0.59506171, 0.00567586, 0.16874401, 1.        , 0.        ,\n",
       "        0.        , 1.        , 0.        , 1.        , 0.        ,\n",
       "        0.        , 1.        , 0.        , 1.        , 0.        ,\n",
       "        1.        , 0.        , 0.        , 0.        , 1.        ,\n",
       "        0.        , 0.        , 0.        , 0.        , 1.        ,\n",
       "        0.        ],\n",
       "       [0.15302948, 0.546956  , 0.70120128, 1.        , 0.666667  ,\n",
       "        0.64509204, 0.46932638, 0.39557682, 1.        , 0.        ,\n",
       "        0.        , 1.        , 0.        , 1.        , 0.        ,\n",
       "        0.        , 1.        , 0.        , 1.        , 0.        ,\n",
       "        1.        , 0.        , 0.        , 0.        , 1.        ,\n",
       "        0.        , 0.        , 0.        , 0.        , 1.        ,\n",
       "        0.        ],\n",
       "       [0.25211467, 0.34302259, 0.50219577, 1.        , 0.666667  ,\n",
       "        0.61388606, 0.01787687, 0.27608786, 1.        , 0.        ,\n",
       "        0.        , 1.        , 0.        , 1.        , 0.        ,\n",
       "        0.        , 1.        , 0.        , 1.        , 0.        ,\n",
       "        1.        , 0.        , 0.        , 0.        , 1.        ,\n",
       "        0.        , 0.        , 0.        , 0.        , 1.        ,\n",
       "        0.        ],\n",
       "       [0.13863289, 0.5206365 , 0.65818523, 1.        , 0.666667  ,\n",
       "        0.85379265, 0.36476272, 0.35357481, 1.        , 0.        ,\n",
       "        0.        , 1.        , 0.        , 1.        , 0.        ,\n",
       "        0.        , 1.        , 0.        , 1.        , 0.        ,\n",
       "        1.        , 0.        , 0.        , 0.        , 1.        ,\n",
       "        0.        , 0.        , 0.        , 0.        , 1.        ,\n",
       "        0.        ]])"
      ]
     },
     "execution_count": 52,
     "metadata": {},
     "output_type": "execute_result"
    }
   ],
   "source": [
    "gmm.means_"
   ]
  },
  {
   "cell_type": "code",
   "execution_count": 53,
   "metadata": {
    "scrolled": true
   },
   "outputs": [
    {
     "data": {
      "text/plain": [
       "array([[[ 0.0005,  0.0001,  0.001 , ...,  0.    ,  0.    ,  0.    ],\n",
       "        [ 0.0001,  0.0028,  0.0024, ...,  0.    ,  0.    ,  0.    ],\n",
       "        [ 0.001 ,  0.0024,  0.0057, ...,  0.    ,  0.    ,  0.    ],\n",
       "        ...,\n",
       "        [ 0.    ,  0.    ,  0.    , ...,  0.    ,  0.    ,  0.    ],\n",
       "        [ 0.    ,  0.    ,  0.    , ...,  0.    ,  0.    ,  0.    ],\n",
       "        [ 0.    ,  0.    ,  0.    , ...,  0.    ,  0.    ,  0.    ]],\n",
       "\n",
       "       [[ 0.0014, -0.002 , -0.0025, ...,  0.    ,  0.    ,  0.    ],\n",
       "        [-0.002 ,  0.0041,  0.0042, ...,  0.    ,  0.    ,  0.    ],\n",
       "        [-0.0025,  0.0042,  0.0048, ...,  0.    ,  0.    ,  0.    ],\n",
       "        ...,\n",
       "        [ 0.    ,  0.    ,  0.    , ...,  0.    ,  0.    ,  0.    ],\n",
       "        [ 0.    ,  0.    ,  0.    , ...,  0.    ,  0.    ,  0.    ],\n",
       "        [ 0.    ,  0.    ,  0.    , ...,  0.    ,  0.    ,  0.    ]],\n",
       "\n",
       "       [[ 0.    ,  0.    ,  0.    , ...,  0.    ,  0.    ,  0.    ],\n",
       "        [ 0.    ,  0.0005,  0.0005, ...,  0.    , -0.    ,  0.    ],\n",
       "        [ 0.    ,  0.0005,  0.0006, ...,  0.    ,  0.    ,  0.    ],\n",
       "        ...,\n",
       "        [ 0.    ,  0.    ,  0.    , ...,  0.    ,  0.    ,  0.    ],\n",
       "        [ 0.    , -0.    ,  0.    , ...,  0.    ,  0.    ,  0.    ],\n",
       "        [ 0.    ,  0.    ,  0.    , ...,  0.    ,  0.    ,  0.    ]],\n",
       "\n",
       "       [[ 0.0014,  0.0002,  0.0001, ...,  0.    ,  0.    ,  0.    ],\n",
       "        [ 0.0002,  0.0064,  0.0031, ...,  0.    ,  0.    ,  0.    ],\n",
       "        [ 0.0001,  0.0031,  0.0018, ...,  0.    ,  0.    ,  0.    ],\n",
       "        ...,\n",
       "        [ 0.    ,  0.    ,  0.    , ...,  0.    ,  0.    ,  0.    ],\n",
       "        [ 0.    ,  0.    ,  0.    , ...,  0.    ,  0.    ,  0.    ],\n",
       "        [ 0.    ,  0.    ,  0.    , ...,  0.    ,  0.    ,  0.    ]],\n",
       "\n",
       "       [[ 0.    , -0.0002, -0.    , ...,  0.    ,  0.    ,  0.    ],\n",
       "        [-0.0002,  0.0023,  0.0001, ...,  0.    ,  0.    ,  0.    ],\n",
       "        [-0.    ,  0.0001,  0.0002, ...,  0.    ,  0.    ,  0.    ],\n",
       "        ...,\n",
       "        [ 0.    ,  0.    ,  0.    , ...,  0.    ,  0.    ,  0.    ],\n",
       "        [ 0.    ,  0.    ,  0.    , ...,  0.    ,  0.    ,  0.    ],\n",
       "        [ 0.    ,  0.    ,  0.    , ...,  0.    ,  0.    ,  0.    ]],\n",
       "\n",
       "       [[ 0.0027, -0.0025, -0.0034, ...,  0.    ,  0.    ,  0.    ],\n",
       "        [-0.0025,  0.0025,  0.0033, ...,  0.    ,  0.    ,  0.    ],\n",
       "        [-0.0034,  0.0033,  0.0045, ...,  0.    ,  0.    ,  0.    ],\n",
       "        ...,\n",
       "        [ 0.    ,  0.    ,  0.    , ...,  0.    ,  0.    ,  0.    ],\n",
       "        [ 0.    ,  0.    ,  0.    , ...,  0.    ,  0.    ,  0.    ],\n",
       "        [ 0.    ,  0.    ,  0.    , ...,  0.    ,  0.    ,  0.    ]]])"
      ]
     },
     "execution_count": 53,
     "metadata": {},
     "output_type": "execute_result"
    }
   ],
   "source": [
    "gmm.covariances_.round(4)"
   ]
  },
  {
   "cell_type": "code",
   "execution_count": 54,
   "metadata": {
    "scrolled": true
   },
   "outputs": [
    {
     "data": {
      "text/plain": [
       "array([[[ 7.87590120e+03,  1.35616900e+03, -1.87886070e+03, ...,\n",
       "          0.00000000e+00, -0.00000000e+00,  0.00000000e+00],\n",
       "        [ 1.35616900e+03,  1.25130030e+03, -9.15972300e+02, ...,\n",
       "          0.00000000e+00, -0.00000000e+00,  0.00000000e+00],\n",
       "        [-1.87886070e+03, -9.15972300e+02,  1.00898000e+03, ...,\n",
       "          0.00000000e+00,  0.00000000e+00,  0.00000000e+00],\n",
       "        ...,\n",
       "        [ 0.00000000e+00,  0.00000000e+00,  0.00000000e+00, ...,\n",
       "          1.00000000e+06,  0.00000000e+00,  0.00000000e+00],\n",
       "        [-0.00000000e+00, -0.00000000e+00,  0.00000000e+00, ...,\n",
       "          0.00000000e+00,  1.00000000e+06,  0.00000000e+00],\n",
       "        [ 0.00000000e+00,  0.00000000e+00,  0.00000000e+00, ...,\n",
       "          0.00000000e+00,  0.00000000e+00,  1.00000000e+06]],\n",
       "\n",
       "       [[ 2.38198290e+04, -9.09290000e+02,  2.17685400e+02, ...,\n",
       "          0.00000000e+00, -0.00000000e+00,  0.00000000e+00],\n",
       "        [-9.09290000e+02,  8.58837240e+03, -1.45649914e+04, ...,\n",
       "          0.00000000e+00,  0.00000000e+00,  0.00000000e+00],\n",
       "        [ 2.17685400e+02, -1.45649914e+04,  2.85026865e+04, ...,\n",
       "          0.00000000e+00, -0.00000000e+00,  0.00000000e+00],\n",
       "        ...,\n",
       "        [ 0.00000000e+00,  0.00000000e+00,  0.00000000e+00, ...,\n",
       "          1.00000000e+06,  0.00000000e+00,  0.00000000e+00],\n",
       "        [-0.00000000e+00,  0.00000000e+00, -0.00000000e+00, ...,\n",
       "          0.00000000e+00,  1.00000000e+06,  0.00000000e+00],\n",
       "        [ 0.00000000e+00,  0.00000000e+00,  0.00000000e+00, ...,\n",
       "          0.00000000e+00,  0.00000000e+00,  1.00000000e+06]],\n",
       "\n",
       "       [[ 8.47694909e+05,  1.34857155e+04,  5.73387162e+04, ...,\n",
       "          0.00000000e+00, -0.00000000e+00,  0.00000000e+00],\n",
       "        [ 1.34857155e+04,  9.36393060e+03,  6.66982700e+02, ...,\n",
       "          0.00000000e+00, -0.00000000e+00,  0.00000000e+00],\n",
       "        [ 5.73387162e+04,  6.66982700e+02,  2.85519423e+04, ...,\n",
       "          0.00000000e+00, -0.00000000e+00,  0.00000000e+00],\n",
       "        ...,\n",
       "        [ 0.00000000e+00,  0.00000000e+00,  0.00000000e+00, ...,\n",
       "          1.00000000e+06,  0.00000000e+00,  0.00000000e+00],\n",
       "        [-0.00000000e+00, -0.00000000e+00, -0.00000000e+00, ...,\n",
       "          0.00000000e+00,  1.00000000e+06,  0.00000000e+00],\n",
       "        [ 0.00000000e+00,  0.00000000e+00,  0.00000000e+00, ...,\n",
       "          0.00000000e+00,  0.00000000e+00,  1.00000000e+06]],\n",
       "\n",
       "       [[ 3.11415950e+03,  9.32649700e+02,  1.07852650e+03, ...,\n",
       "          0.00000000e+00, -0.00000000e+00,  0.00000000e+00],\n",
       "        [ 9.32649700e+02,  1.44487120e+03, -1.61249320e+03, ...,\n",
       "          0.00000000e+00, -0.00000000e+00,  0.00000000e+00],\n",
       "        [ 1.07852650e+03, -1.61249320e+03,  8.30354870e+03, ...,\n",
       "          0.00000000e+00, -0.00000000e+00,  0.00000000e+00],\n",
       "        ...,\n",
       "        [ 0.00000000e+00,  0.00000000e+00,  0.00000000e+00, ...,\n",
       "          1.00000000e+06,  0.00000000e+00,  0.00000000e+00],\n",
       "        [-0.00000000e+00, -0.00000000e+00, -0.00000000e+00, ...,\n",
       "          0.00000000e+00,  1.00000000e+06,  0.00000000e+00],\n",
       "        [ 0.00000000e+00,  0.00000000e+00,  0.00000000e+00, ...,\n",
       "          0.00000000e+00,  0.00000000e+00,  1.00000000e+06]],\n",
       "\n",
       "       [[ 4.50084404e+05,  2.25326272e+04,  3.99105948e+04, ...,\n",
       "          0.00000000e+00, -0.00000000e+00,  0.00000000e+00],\n",
       "        [ 2.25326272e+04,  3.84430160e+03,  3.70170860e+03, ...,\n",
       "          0.00000000e+00, -0.00000000e+00,  0.00000000e+00],\n",
       "        [ 3.99105948e+04,  3.70170860e+03,  1.50618472e+04, ...,\n",
       "          0.00000000e+00, -0.00000000e+00,  0.00000000e+00],\n",
       "        ...,\n",
       "        [ 0.00000000e+00,  0.00000000e+00,  0.00000000e+00, ...,\n",
       "          1.00000000e+06,  0.00000000e+00,  0.00000000e+00],\n",
       "        [-0.00000000e+00, -0.00000000e+00, -0.00000000e+00, ...,\n",
       "          0.00000000e+00,  1.00000000e+06,  0.00000000e+00],\n",
       "        [ 0.00000000e+00,  0.00000000e+00,  0.00000000e+00, ...,\n",
       "          0.00000000e+00,  0.00000000e+00,  1.00000000e+06]],\n",
       "\n",
       "       [[ 1.88140966e+05, -3.91889085e+04,  1.73929478e+05, ...,\n",
       "          0.00000000e+00, -0.00000000e+00,  0.00000000e+00],\n",
       "        [-3.91889085e+04,  8.47198043e+05, -2.73360416e+05, ...,\n",
       "          0.00000000e+00, -0.00000000e+00,  0.00000000e+00],\n",
       "        [ 1.73929478e+05, -2.73360416e+05,  2.73052400e+05, ...,\n",
       "          0.00000000e+00, -0.00000000e+00,  0.00000000e+00],\n",
       "        ...,\n",
       "        [ 0.00000000e+00,  0.00000000e+00,  0.00000000e+00, ...,\n",
       "          1.00000000e+06,  0.00000000e+00,  0.00000000e+00],\n",
       "        [-0.00000000e+00, -0.00000000e+00, -0.00000000e+00, ...,\n",
       "          0.00000000e+00,  1.00000000e+06,  0.00000000e+00],\n",
       "        [ 0.00000000e+00,  0.00000000e+00,  0.00000000e+00, ...,\n",
       "          0.00000000e+00,  0.00000000e+00,  1.00000000e+06]]])"
      ]
     },
     "execution_count": 54,
     "metadata": {},
     "output_type": "execute_result"
    }
   ],
   "source": [
    "gmm.precisions_.round(4)"
   ]
  },
  {
   "cell_type": "code",
   "execution_count": 55,
   "metadata": {},
   "outputs": [
    {
     "data": {
      "text/plain": [
       "True"
      ]
     },
     "execution_count": 55,
     "metadata": {},
     "output_type": "execute_result"
    }
   ],
   "source": [
    "gmm.converged_"
   ]
  }
 ],
 "metadata": {
  "kernelspec": {
   "display_name": "Python 3",
   "language": "python",
   "name": "python3"
  },
  "language_info": {
   "codemirror_mode": {
    "name": "ipython",
    "version": 3
   },
   "file_extension": ".py",
   "mimetype": "text/x-python",
   "name": "python",
   "nbconvert_exporter": "python",
   "pygments_lexer": "ipython3",
   "version": "3.8.3"
  }
 },
 "nbformat": 4,
 "nbformat_minor": 4
}
